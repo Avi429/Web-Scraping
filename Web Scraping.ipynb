{
  "nbformat": 4,
  "nbformat_minor": 0,
  "metadata": {
    "colab": {
      "name": "Untitled4.ipynb",
      "provenance": []
    },
    "kernelspec": {
      "name": "python3",
      "display_name": "Python 3"
    },
    "language_info": {
      "name": "python"
    }
  },
  "cells": [
    {
      "cell_type": "code",
      "metadata": {
        "colab": {
          "base_uri": "https://localhost:8080/"
        },
        "id": "tIwCNeYZAf97",
        "outputId": "a9655deb-c308-478c-924b-d8c50d92400b"
      },
      "source": [
        "pip install selenium"
      ],
      "execution_count": null,
      "outputs": [
        {
          "output_type": "stream",
          "text": [
            "Collecting selenium\n",
            "  Downloading selenium-3.141.0-py2.py3-none-any.whl (904 kB)\n",
            "\u001b[?25l\r\u001b[K     |▍                               | 10 kB 35.4 MB/s eta 0:00:01\r\u001b[K     |▊                               | 20 kB 34.7 MB/s eta 0:00:01\r\u001b[K     |█                               | 30 kB 20.2 MB/s eta 0:00:01\r\u001b[K     |█▌                              | 40 kB 16.9 MB/s eta 0:00:01\r\u001b[K     |█▉                              | 51 kB 7.0 MB/s eta 0:00:01\r\u001b[K     |██▏                             | 61 kB 7.7 MB/s eta 0:00:01\r\u001b[K     |██▌                             | 71 kB 8.0 MB/s eta 0:00:01\r\u001b[K     |███                             | 81 kB 7.6 MB/s eta 0:00:01\r\u001b[K     |███▎                            | 92 kB 8.1 MB/s eta 0:00:01\r\u001b[K     |███▋                            | 102 kB 8.3 MB/s eta 0:00:01\r\u001b[K     |████                            | 112 kB 8.3 MB/s eta 0:00:01\r\u001b[K     |████▍                           | 122 kB 8.3 MB/s eta 0:00:01\r\u001b[K     |████▊                           | 133 kB 8.3 MB/s eta 0:00:01\r\u001b[K     |█████                           | 143 kB 8.3 MB/s eta 0:00:01\r\u001b[K     |█████▍                          | 153 kB 8.3 MB/s eta 0:00:01\r\u001b[K     |█████▉                          | 163 kB 8.3 MB/s eta 0:00:01\r\u001b[K     |██████▏                         | 174 kB 8.3 MB/s eta 0:00:01\r\u001b[K     |██████▌                         | 184 kB 8.3 MB/s eta 0:00:01\r\u001b[K     |██████▉                         | 194 kB 8.3 MB/s eta 0:00:01\r\u001b[K     |███████▎                        | 204 kB 8.3 MB/s eta 0:00:01\r\u001b[K     |███████▋                        | 215 kB 8.3 MB/s eta 0:00:01\r\u001b[K     |████████                        | 225 kB 8.3 MB/s eta 0:00:01\r\u001b[K     |████████▎                       | 235 kB 8.3 MB/s eta 0:00:01\r\u001b[K     |████████▊                       | 245 kB 8.3 MB/s eta 0:00:01\r\u001b[K     |█████████                       | 256 kB 8.3 MB/s eta 0:00:01\r\u001b[K     |█████████▍                      | 266 kB 8.3 MB/s eta 0:00:01\r\u001b[K     |█████████▉                      | 276 kB 8.3 MB/s eta 0:00:01\r\u001b[K     |██████████▏                     | 286 kB 8.3 MB/s eta 0:00:01\r\u001b[K     |██████████▌                     | 296 kB 8.3 MB/s eta 0:00:01\r\u001b[K     |██████████▉                     | 307 kB 8.3 MB/s eta 0:00:01\r\u001b[K     |███████████▎                    | 317 kB 8.3 MB/s eta 0:00:01\r\u001b[K     |███████████▋                    | 327 kB 8.3 MB/s eta 0:00:01\r\u001b[K     |████████████                    | 337 kB 8.3 MB/s eta 0:00:01\r\u001b[K     |████████████▎                   | 348 kB 8.3 MB/s eta 0:00:01\r\u001b[K     |████████████▊                   | 358 kB 8.3 MB/s eta 0:00:01\r\u001b[K     |█████████████                   | 368 kB 8.3 MB/s eta 0:00:01\r\u001b[K     |█████████████▍                  | 378 kB 8.3 MB/s eta 0:00:01\r\u001b[K     |█████████████▊                  | 389 kB 8.3 MB/s eta 0:00:01\r\u001b[K     |██████████████▏                 | 399 kB 8.3 MB/s eta 0:00:01\r\u001b[K     |██████████████▌                 | 409 kB 8.3 MB/s eta 0:00:01\r\u001b[K     |██████████████▉                 | 419 kB 8.3 MB/s eta 0:00:01\r\u001b[K     |███████████████▏                | 430 kB 8.3 MB/s eta 0:00:01\r\u001b[K     |███████████████▋                | 440 kB 8.3 MB/s eta 0:00:01\r\u001b[K     |████████████████                | 450 kB 8.3 MB/s eta 0:00:01\r\u001b[K     |████████████████▎               | 460 kB 8.3 MB/s eta 0:00:01\r\u001b[K     |████████████████▋               | 471 kB 8.3 MB/s eta 0:00:01\r\u001b[K     |█████████████████               | 481 kB 8.3 MB/s eta 0:00:01\r\u001b[K     |█████████████████▍              | 491 kB 8.3 MB/s eta 0:00:01\r\u001b[K     |█████████████████▊              | 501 kB 8.3 MB/s eta 0:00:01\r\u001b[K     |██████████████████▏             | 512 kB 8.3 MB/s eta 0:00:01\r\u001b[K     |██████████████████▌             | 522 kB 8.3 MB/s eta 0:00:01\r\u001b[K     |██████████████████▉             | 532 kB 8.3 MB/s eta 0:00:01\r\u001b[K     |███████████████████▏            | 542 kB 8.3 MB/s eta 0:00:01\r\u001b[K     |███████████████████▋            | 552 kB 8.3 MB/s eta 0:00:01\r\u001b[K     |████████████████████            | 563 kB 8.3 MB/s eta 0:00:01\r\u001b[K     |████████████████████▎           | 573 kB 8.3 MB/s eta 0:00:01\r\u001b[K     |████████████████████▋           | 583 kB 8.3 MB/s eta 0:00:01\r\u001b[K     |█████████████████████           | 593 kB 8.3 MB/s eta 0:00:01\r\u001b[K     |█████████████████████▍          | 604 kB 8.3 MB/s eta 0:00:01\r\u001b[K     |█████████████████████▊          | 614 kB 8.3 MB/s eta 0:00:01\r\u001b[K     |██████████████████████          | 624 kB 8.3 MB/s eta 0:00:01\r\u001b[K     |██████████████████████▌         | 634 kB 8.3 MB/s eta 0:00:01\r\u001b[K     |██████████████████████▉         | 645 kB 8.3 MB/s eta 0:00:01\r\u001b[K     |███████████████████████▏        | 655 kB 8.3 MB/s eta 0:00:01\r\u001b[K     |███████████████████████▌        | 665 kB 8.3 MB/s eta 0:00:01\r\u001b[K     |████████████████████████        | 675 kB 8.3 MB/s eta 0:00:01\r\u001b[K     |████████████████████████▎       | 686 kB 8.3 MB/s eta 0:00:01\r\u001b[K     |████████████████████████▋       | 696 kB 8.3 MB/s eta 0:00:01\r\u001b[K     |█████████████████████████       | 706 kB 8.3 MB/s eta 0:00:01\r\u001b[K     |█████████████████████████▍      | 716 kB 8.3 MB/s eta 0:00:01\r\u001b[K     |█████████████████████████▊      | 727 kB 8.3 MB/s eta 0:00:01\r\u001b[K     |██████████████████████████      | 737 kB 8.3 MB/s eta 0:00:01\r\u001b[K     |██████████████████████████▍     | 747 kB 8.3 MB/s eta 0:00:01\r\u001b[K     |██████████████████████████▉     | 757 kB 8.3 MB/s eta 0:00:01\r\u001b[K     |███████████████████████████▏    | 768 kB 8.3 MB/s eta 0:00:01\r\u001b[K     |███████████████████████████▌    | 778 kB 8.3 MB/s eta 0:00:01\r\u001b[K     |████████████████████████████    | 788 kB 8.3 MB/s eta 0:00:01\r\u001b[K     |████████████████████████████▎   | 798 kB 8.3 MB/s eta 0:00:01\r\u001b[K     |████████████████████████████▋   | 808 kB 8.3 MB/s eta 0:00:01\r\u001b[K     |█████████████████████████████   | 819 kB 8.3 MB/s eta 0:00:01\r\u001b[K     |█████████████████████████████▍  | 829 kB 8.3 MB/s eta 0:00:01\r\u001b[K     |█████████████████████████████▊  | 839 kB 8.3 MB/s eta 0:00:01\r\u001b[K     |██████████████████████████████  | 849 kB 8.3 MB/s eta 0:00:01\r\u001b[K     |██████████████████████████████▍ | 860 kB 8.3 MB/s eta 0:00:01\r\u001b[K     |██████████████████████████████▉ | 870 kB 8.3 MB/s eta 0:00:01\r\u001b[K     |███████████████████████████████▏| 880 kB 8.3 MB/s eta 0:00:01\r\u001b[K     |███████████████████████████████▌| 890 kB 8.3 MB/s eta 0:00:01\r\u001b[K     |███████████████████████████████▉| 901 kB 8.3 MB/s eta 0:00:01\r\u001b[K     |████████████████████████████████| 904 kB 8.3 MB/s \n",
            "\u001b[?25hRequirement already satisfied: urllib3 in /usr/local/lib/python3.7/dist-packages (from selenium) (1.24.3)\n",
            "Installing collected packages: selenium\n",
            "Successfully installed selenium-3.141.0\n"
          ],
          "name": "stdout"
        }
      ]
    },
    {
      "cell_type": "code",
      "metadata": {
        "colab": {
          "base_uri": "https://localhost:8080/"
        },
        "id": "5Dx8r0FQAqaD",
        "outputId": "6f5caefb-ab00-424d-d0d7-c1193c4dc356"
      },
      "source": [
        "!apt install chromium-chromedriver"
      ],
      "execution_count": null,
      "outputs": [
        {
          "output_type": "stream",
          "text": [
            "Reading package lists... Done\n",
            "Building dependency tree       \n",
            "Reading state information... Done\n",
            "The following additional packages will be installed:\n",
            "  chromium-browser chromium-browser-l10n chromium-codecs-ffmpeg-extra\n",
            "Suggested packages:\n",
            "  webaccounts-chromium-extension unity-chromium-extension\n",
            "The following NEW packages will be installed:\n",
            "  chromium-browser chromium-browser-l10n chromium-chromedriver\n",
            "  chromium-codecs-ffmpeg-extra\n",
            "0 upgraded, 4 newly installed, 0 to remove and 40 not upgraded.\n",
            "Need to get 86.0 MB of archives.\n",
            "After this operation, 298 MB of additional disk space will be used.\n",
            "Get:1 http://archive.ubuntu.com/ubuntu bionic-updates/universe amd64 chromium-codecs-ffmpeg-extra amd64 91.0.4472.101-0ubuntu0.18.04.1 [1,124 kB]\n",
            "Get:2 http://archive.ubuntu.com/ubuntu bionic-updates/universe amd64 chromium-browser amd64 91.0.4472.101-0ubuntu0.18.04.1 [76.1 MB]\n",
            "Get:3 http://archive.ubuntu.com/ubuntu bionic-updates/universe amd64 chromium-browser-l10n all 91.0.4472.101-0ubuntu0.18.04.1 [3,937 kB]\n",
            "Get:4 http://archive.ubuntu.com/ubuntu bionic-updates/universe amd64 chromium-chromedriver amd64 91.0.4472.101-0ubuntu0.18.04.1 [4,837 kB]\n",
            "Fetched 86.0 MB in 6s (14.9 MB/s)\n",
            "Selecting previously unselected package chromium-codecs-ffmpeg-extra.\n",
            "(Reading database ... 160837 files and directories currently installed.)\n",
            "Preparing to unpack .../chromium-codecs-ffmpeg-extra_91.0.4472.101-0ubuntu0.18.04.1_amd64.deb ...\n",
            "Unpacking chromium-codecs-ffmpeg-extra (91.0.4472.101-0ubuntu0.18.04.1) ...\n",
            "Selecting previously unselected package chromium-browser.\n",
            "Preparing to unpack .../chromium-browser_91.0.4472.101-0ubuntu0.18.04.1_amd64.deb ...\n",
            "Unpacking chromium-browser (91.0.4472.101-0ubuntu0.18.04.1) ...\n",
            "Selecting previously unselected package chromium-browser-l10n.\n",
            "Preparing to unpack .../chromium-browser-l10n_91.0.4472.101-0ubuntu0.18.04.1_all.deb ...\n",
            "Unpacking chromium-browser-l10n (91.0.4472.101-0ubuntu0.18.04.1) ...\n",
            "Selecting previously unselected package chromium-chromedriver.\n",
            "Preparing to unpack .../chromium-chromedriver_91.0.4472.101-0ubuntu0.18.04.1_amd64.deb ...\n",
            "Unpacking chromium-chromedriver (91.0.4472.101-0ubuntu0.18.04.1) ...\n",
            "Setting up chromium-codecs-ffmpeg-extra (91.0.4472.101-0ubuntu0.18.04.1) ...\n",
            "Setting up chromium-browser (91.0.4472.101-0ubuntu0.18.04.1) ...\n",
            "update-alternatives: using /usr/bin/chromium-browser to provide /usr/bin/x-www-browser (x-www-browser) in auto mode\n",
            "update-alternatives: using /usr/bin/chromium-browser to provide /usr/bin/gnome-www-browser (gnome-www-browser) in auto mode\n",
            "Setting up chromium-chromedriver (91.0.4472.101-0ubuntu0.18.04.1) ...\n",
            "Setting up chromium-browser-l10n (91.0.4472.101-0ubuntu0.18.04.1) ...\n",
            "Processing triggers for man-db (2.8.3-2ubuntu0.1) ...\n",
            "Processing triggers for hicolor-icon-theme (0.17-2) ...\n",
            "Processing triggers for mime-support (3.60ubuntu1) ...\n",
            "Processing triggers for libc-bin (2.27-3ubuntu1.2) ...\n",
            "/sbin/ldconfig.real: /usr/local/lib/python3.7/dist-packages/ideep4py/lib/libmkldnn.so.0 is not a symbolic link\n",
            "\n"
          ],
          "name": "stdout"
        }
      ]
    },
    {
      "cell_type": "code",
      "metadata": {
        "colab": {
          "base_uri": "https://localhost:8080/"
        },
        "id": "RdiWq_5zA0Pl",
        "outputId": "f17fca5b-8a64-40b5-ab2a-c5dc8e8bd3ef"
      },
      "source": [
        "pip install beautifulSoup4"
      ],
      "execution_count": null,
      "outputs": [
        {
          "output_type": "stream",
          "text": [
            "Requirement already satisfied: beautifulSoup4 in /usr/local/lib/python3.7/dist-packages (4.6.3)\n"
          ],
          "name": "stdout"
        }
      ]
    },
    {
      "cell_type": "code",
      "metadata": {
        "colab": {
          "base_uri": "https://localhost:8080/"
        },
        "id": "SKadgOi8A4og",
        "outputId": "557327ba-f9f3-4cdb-e9a2-6af49c085516"
      },
      "source": [
        "from bs4 import BeautifulSoup\n",
        "import pandas as pd\n",
        "from selenium import webdriver\n",
        "chrome_options = webdriver.ChromeOptions()\n",
        "chrome_options.add_argument('--headless')\n",
        "chrome_options.add_argument('--no-sandbox')\n",
        "chrome_options.add_argument('--disable-dev-shm-usage')\n",
        "wd = webdriver.Chrome('chromedriver',chrome_options=chrome_options)\n",
        "driver =webdriver.Chrome('chromedriver',chrome_options=chrome_options)"
      ],
      "execution_count": null,
      "outputs": [
        {
          "output_type": "stream",
          "text": [
            "/usr/local/lib/python3.7/dist-packages/ipykernel_launcher.py:8: DeprecationWarning: use options instead of chrome_options\n",
            "  \n",
            "/usr/local/lib/python3.7/dist-packages/ipykernel_launcher.py:9: DeprecationWarning: use options instead of chrome_options\n",
            "  if __name__ == '__main__':\n"
          ],
          "name": "stderr"
        }
      ]
    },
    {
      "cell_type": "code",
      "metadata": {
        "id": "00KylnksA92l"
      },
      "source": [
        "driver.get(\"https://www.snapdeal.com/products/computers-laptops?sort=plrty\")\n",
        "content=driver.page_source\n",
        "soup=BeautifulSoup(content ,'html.parser')"
      ],
      "execution_count": null,
      "outputs": []
    },
    {
      "cell_type": "code",
      "metadata": {
        "id": "PFiM_vQABMd5"
      },
      "source": [
        "m=soup.find_all('p' ,class_=\"product-title\")\n",
        "p=soup.find_all('span' ,class_=\"lfloat product-price\")"
      ],
      "execution_count": null,
      "outputs": []
    },
    {
      "cell_type": "code",
      "metadata": {
        "id": "P7B4bMbIBPgN"
      },
      "source": [
        "disc=[]\n",
        "price=[]\n",
        "\n",
        "for i in m:\n",
        "  disc.append(i.text)\n",
        "for i in p:\n",
        "  price.append(i.text)"
      ],
      "execution_count": null,
      "outputs": []
    },
    {
      "cell_type": "code",
      "metadata": {
        "id": "ukb-4reYBTLu"
      },
      "source": [
        "df=pd.DataFrame({\"Product Discription\" : disc , \"Price\" : price })\n",
        "df.head()\n",
        "df.to_csv(\"final.csv\" , index=False  ,encoding=\"utf-8\")"
      ],
      "execution_count": null,
      "outputs": []
    }
  ]
}